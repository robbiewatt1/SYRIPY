{
 "cells": [
  {
   "cell_type": "code",
   "execution_count": null,
   "id": "13afe9f3",
   "metadata": {
    "is_executing": true
   },
   "outputs": [],
   "source": [
    "from SYRIPY import Wavefront, FieldSolver\n",
    "from SYRIPY.Optics import FraunhoferPropQS, CircularAperture, OpticsContainer\n",
    "from SYRIPY.Tracking import Track, Dipole, FieldContainer\n",
    "\n",
    "import torch\n",
    "import matplotlib.pyplot as plt\n",
    "\n",
    "device = torch.device(\"cuda\" if torch.cuda.is_available() else \"cpu\")"
   ]
  },
  {
   "cell_type": "markdown",
   "id": "bd3c0569-e9e7-4abf-9f2d-95af9e7d4ec8",
   "metadata": {},
   "source": [
    "# This notebook follows the same simulation as basic_example.py."
   ]
  },
  {
   "cell_type": "code",
   "execution_count": null,
   "id": "2de20894",
   "metadata": {},
   "outputs": [],
   "source": [
    "# Define the magnet setup\n",
    "d0 = Dipole(torch.tensor([-0.116, 0, 0]),  # Location (m)\n",
    "            0.203,                         # Length (m)\n",
    "            torch.tensor([0, 0.491, 0]),   # Field strength (T)\n",
    "            None,                          # Direction (not implemented yet)\n",
    "            0.05)                          # Edge length (m)\n",
    "d1 = Dipole(torch.tensor([0, 0, 1.033]), 0.203,\n",
    "            torch.tensor([0, -0.491, 0]), None, 0.05)\n",
    "d2 = Dipole(torch.tensor([0, 0, 2.067]), 0.203,\n",
    "            torch.tensor([0, -0.491, 0]), None, 0.05)\n",
    "field = FieldContainer([d0, d1, d2])"
   ]
  },
  {
   "cell_type": "code",
   "execution_count": null,
   "id": "dc249663",
   "metadata": {},
   "outputs": [],
   "source": [
    "# Define the particle track\n",
    "gamma = torch.tensor([340. / 0.51099890221])       # Lorentz factor\n",
    "p0 = torch.tensor([0., 0., 1.]) * gamma * 0.29979  # Initial momentum\n",
    "r0 = torch.tensor([-0.091356, 0, -1])              # Initial position (m)\n",
    "time = torch.linspace(0, 14, 1001)                 # Time array samples (ns)\n",
    "\n",
    "# Define tracking class and track (using c++ implementation, faster but can't do gradients)\n",
    "track = Track(field, device=device)\n",
    "track.set_central_params(r0, p0)\n",
    "track.sim_central_c(time)\n",
    "\n",
    "# Plot track (z-x plane)\n",
    "fig, ax = track.plot_track([2, 0])\n",
    "ax.set_xlabel(\"z (m)\")\n",
    "ax.set_ylabel(\"x (m)\")"
   ]
  },
  {
   "cell_type": "code",
   "execution_count": null,
   "id": "b96ce5eb",
   "metadata": {},
   "outputs": [],
   "source": [
    "# Define the initial wavefront\n",
    "wavefnt = Wavefront(3.0,                         # z position of the wavefront (m)\n",
    "                    3.77e5,                      # Radiation angular frequency (2 pi / ns)\n",
    "                    [-0.02, 0.02, -0.02, 0.02],  # Wavefront size [x_min, x_max, y_min, y_max] (m)\n",
    "                    [250, 250],                  # Samples in x and y [n_x, n_y]\n",
    "                    device=device)               # device used"
   ]
  },
  {
   "cell_type": "code",
   "execution_count": null,
   "id": "a05887c2",
   "metadata": {},
   "outputs": [],
   "source": [
    "# Define the optics\n",
    "aper = CircularAperture(0.02, pad=2)  # Aperture with radiuse 0.02m\n",
    "prop = FraunhoferPropQS(1.)           # Fraunhofer propagation to 1m\n",
    "optics = OpticsContainer([aper, prop])"
   ]
  },
  {
   "cell_type": "code",
   "execution_count": null,
   "id": "3f9a0b17",
   "metadata": {},
   "outputs": [],
   "source": [
    "# Define the field solver class\n",
    "solver = FieldSolver(wavefnt, track)\n",
    "# Select the track region of interest and redistribution the samples along the track\n",
    "solver.set_track(201,  # Number of new samples\n",
    "                 4,    # Start time\n",
    "                 13,)  # End time\n",
    "fig, ax = track.plot_track([2, 0])\n",
    "ax.set_xlabel(\"z (m)\")\n",
    "ax.set_ylabel(\"x (m)\")"
   ]
  },
  {
   "cell_type": "code",
   "execution_count": null,
   "id": "ed7ae67a",
   "metadata": {},
   "outputs": [],
   "source": [
    "# Solve the field\n",
    "wavefnt = solver.solve_field()\n",
    "# Plot the intensity\n",
    "wavefnt.plot_intensity()"
   ]
  },
  {
   "cell_type": "code",
   "execution_count": null,
   "id": "a1d0566a",
   "metadata": {},
   "outputs": [],
   "source": [
    "# Propagate the wavefront\n",
    "optics.propagate(wavefnt)\n",
    "wavefnt.plot_intensity()"
   ]
  }
 ],
 "metadata": {
  "kernelspec": {
   "display_name": "SYRIPY",
   "language": "python",
   "name": "syripy"
  },
  "language_info": {
   "codemirror_mode": {
    "name": "ipython",
    "version": 3
   },
   "file_extension": ".py",
   "mimetype": "text/x-python",
   "name": "python",
   "nbconvert_exporter": "python",
   "pygments_lexer": "ipython3",
   "version": "3.10.12"
  }
 },
 "nbformat": 4,
 "nbformat_minor": 5
}
