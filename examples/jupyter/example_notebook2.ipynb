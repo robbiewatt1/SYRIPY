{
 "cells": [
  {
   "cell_type": "code",
   "execution_count": null,
   "id": "d83f0238",
   "metadata": {},
   "outputs": [],
   "source": [
    "from ERS import Wavefront, FieldSolver, BeamSolver\n",
    "from ERS.Optics import FraunhoferProp, CircularAperture, OpticsContainer\n",
    "from ERS.Tracking import Track, Dipole, FieldContainer\n",
    "import torch\n",
    "import matplotlib.pyplot as plt\n",
    "import numpy as np\n",
    "device = torch.device(\"cuda:0\" if torch.cuda.is_available() else \"cpu\")"
   ]
  },
  {
   "cell_type": "code",
   "execution_count": null,
   "id": "ae811e0a",
   "metadata": {},
   "outputs": [],
   "source": [
    "# In this notebook we will model the edge radiation of a beam using a Monte Carlo method"
   ]
  },
  {
   "cell_type": "code",
   "execution_count": null,
   "id": "6af552c3",
   "metadata": {},
   "outputs": [],
   "source": [
    "# Define the magnet setup\n",
    "d0 = Dipole(torch.tensor([-0.1156, 0, 0]),      # Location (m)\n",
    "            0.203274830142196,                  # Length (m)\n",
    "            torch.tensor([0, 0.49051235, 0]),   # Field strength (T)\n",
    "            None,                               # Direction (not implimented yet)\n",
    "            0.05)                               # Edge length (m)\n",
    "d1 = Dipole(torch.tensor([0, 0, 1.0334]), 0.203274830142196, torch.tensor([0, -0.49051235, 0]), None, 0.05)\n",
    "d2 = Dipole(torch.tensor([0, 0, 2.0668]), 0.203274830142196, torch.tensor([0, -0.49051235, 0]), None, 0.05)\n",
    "field = FieldContainer([d0, d1, d2])"
   ]
  },
  {
   "cell_type": "code",
   "execution_count": null,
   "id": "96594363",
   "metadata": {},
   "outputs": [],
   "source": [
    "# Define the central track and beam moments\n",
    "gamma = 339.3 / 0.51099890221              # Lorentz factor\n",
    "d0 = torch.tensor([-0e-3, 0e-3, 1])        # Initial direction\n",
    "r0 = torch.tensor([-0.1155863873, 0, -1])  # Initial position\n",
    "moments = np.array([100e-6, # x (m)\n",
    "                    10e-6,  # x-xp (m rad)**0.5\n",
    "                    300e-6, # xp (rad)\n",
    "                    100e-6, # y (m)\n",
    "                    10e-6,  # y-yp (m rad)**0.5\n",
    "                    100e-6, # yp (rad)\n",
    "                    5.0     # energy (m_e)\n",
    "                   ])**2.\n",
    "time = torch.linspace(0, 14, 1000)         # Time array samples (ns)\n",
    "\n",
    "# Define tracking class and track (using c++ implementation, faster but can't do gradients)\n",
    "track = Track(device=device)\n",
    "track.sim_bunch_c(10000, field, time, r0, d0, gamma, moments)\n",
    "\n",
    "# Plot track\n",
    "fig, ax = track.plot_bunch([2, 0], 10)\n",
    "ax.set_xlabel(\"z (m)\")\n",
    "ax.set_ylabel(\"x (m)\")"
   ]
  },
  {
   "cell_type": "code",
   "execution_count": null,
   "id": "0626e8be",
   "metadata": {},
   "outputs": [],
   "source": [
    "# Define the initial wavefront\n",
    "wavefnt = Wavefront(2.786062584928902,             # z position of the wavefront (m)\n",
    "                    3.77e5,                        # Radiation angular frequency (2 pi / ns)\n",
    "                    [-0.02, 0.02, -0.02, 0.02],    # Wavefront size [x_min, x_max, y_min, y_max] (m)\n",
    "                    [500, 1],                      # Samples in x and y [n_x, n_y]\n",
    "                    device=device)                 # device used"
   ]
  },
  {
   "cell_type": "code",
   "execution_count": null,
   "id": "81cdc553",
   "metadata": {},
   "outputs": [],
   "source": [
    "# Define the optics\n",
    "aper = CircularAperture(0.02)  # Aperture with radiuse 0.02m\n",
    "prop = FraunhoferProp(1)       # Fraunhofer propagation to 1m\n",
    "optics = OpticsContainer([aper, prop])"
   ]
  },
  {
   "cell_type": "code",
   "execution_count": null,
   "id": "9b2f7552",
   "metadata": {},
   "outputs": [],
   "source": [
    "# Define the field solver class\n",
    "solver = BeamSolver(wavefnt, track, optics,\n",
    "                    dt_args={\"new_samples\": 200, # Number of new samples\n",
    "                             \"t_start\": 4,       # Start time\n",
    "                             \"t_end\": 13},       # End time\n",
    "                    batch_solve=2500             # Number of simulations per batch\n",
    "                   )     \n",
    "fig, ax = track.plot_bunch([2, 0], 10)\n",
    "ax.set_xlabel(\"z (m)\")\n",
    "ax.set_ylabel(\"x (m)\")"
   ]
  },
  {
   "cell_type": "code",
   "execution_count": null,
   "id": "0080577f",
   "metadata": {},
   "outputs": [],
   "source": [
    "intesity = solver.solve_incoherent(10000) # Number of particles to simulate\n",
    "fig, ax = plt.subplots()\n",
    "ax.plot(intesity.cpu())"
   ]
  },
  {
   "cell_type": "code",
   "execution_count": null,
   "id": "be57bc19",
   "metadata": {},
   "outputs": [],
   "source": []
  },
  {
   "cell_type": "code",
   "execution_count": null,
   "id": "f49d5310",
   "metadata": {},
   "outputs": [],
   "source": []
  }
 ],
 "metadata": {
  "kernelspec": {
   "display_name": "ERS",
   "language": "python",
   "name": "ers"
  },
  "language_info": {
   "codemirror_mode": {
    "name": "ipython",
    "version": 3
   },
   "file_extension": ".py",
   "mimetype": "text/x-python",
   "name": "python",
   "nbconvert_exporter": "python",
   "pygments_lexer": "ipython3",
   "version": "3.9.16"
  }
 },
 "nbformat": 4,
 "nbformat_minor": 5
}
